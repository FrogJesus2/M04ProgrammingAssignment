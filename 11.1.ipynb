{
 "cells": [
  {
   "cell_type": "code",
   "execution_count": 1,
   "metadata": {},
   "outputs": [
    {
     "name": "stdout",
     "output_type": "stream",
     "text": [
      "Open 9-5 daily\n"
     ]
    }
   ],
   "source": [
    "import zoo\n",
    "\n",
    "zoo.hours()\n",
    "\n",
    "# I was not sure how to do this all in the ipynb file so I have the zoo.py next to this in the github repo\n",
    "# When ran it prints 'Open 9-5 daily'"
   ]
  },
  {
   "cell_type": "code",
   "execution_count": 2,
   "metadata": {},
   "outputs": [
    {
     "name": "stdout",
     "output_type": "stream",
     "text": [
      "Open 9-5 daily\n"
     ]
    }
   ],
   "source": [
    "import zoo as managerie\n",
    "\n",
    "managerie.hours()\n",
    "# Same as before I have the zoo.py file attached to these"
   ]
  },
  {
   "cell_type": "code",
   "execution_count": null,
   "metadata": {},
   "outputs": [],
   "source": [
    "import sqlalchemy as sa\n",
    "\n",
    "conn = sa.create_engine('sqlite:///books.db')\n",
    "\n",
    "meta = sa.MetaData()\n",
    "books = sa.Table('book', meta,\n",
    "        sa.Column('title', sa.Text, primary_key=True),\n",
    "        sa.Column('author', sa.Text),\n",
    "        sa.Column('year', sa.Integer)\n",
    "                  )\n",
    "meta.create_all(conn)\n",
    "\n",
    "print(repr(books))\n"
   ]
  }
 ],
 "metadata": {
  "kernelspec": {
   "display_name": "Python 3",
   "language": "python",
   "name": "python3"
  },
  "language_info": {
   "codemirror_mode": {
    "name": "ipython",
    "version": 3
   },
   "file_extension": ".py",
   "mimetype": "text/x-python",
   "name": "python",
   "nbconvert_exporter": "python",
   "pygments_lexer": "ipython3",
   "version": "3.12.4"
  }
 },
 "nbformat": 4,
 "nbformat_minor": 2
}
